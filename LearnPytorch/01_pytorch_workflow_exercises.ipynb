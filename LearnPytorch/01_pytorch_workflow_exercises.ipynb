{
  "cells": [
    {
      "cell_type": "markdown",
      "metadata": {
        "colab_type": "text",
        "id": "view-in-github"
      },
      "source": [
        "<a href=\"https://colab.research.google.com/github/mrdbourke/pytorch-deep-learning/blob/main/extras/exercises/01_pytorch_workflow_exercises.ipynb\" target=\"_parent\"><img src=\"https://colab.research.google.com/assets/colab-badge.svg\" alt=\"Open In Colab\"/></a>"
      ]
    },
    {
      "cell_type": "markdown",
      "metadata": {
        "id": "N8LsPXZti9Sw"
      },
      "source": [
        "# 01. PyTorch Workflow Exercise Template\n",
        "\n",
        "The following is a template for the PyTorch workflow exercises.\n",
        "\n",
        "It's only starter code and it's your job to fill in the blanks.\n",
        "\n",
        "Because of the flexibility of PyTorch, there may be more than one way to answer the question.\n",
        "\n",
        "Don't worry about trying to be *right* just try writing code that suffices the question.\n",
        "\n",
        "You can see one form of [solutions on GitHub](https://github.com/mrdbourke/pytorch-deep-learning/tree/main/extras/solutions) (but try the exercises below yourself first!)."
      ]
    },
    {
      "cell_type": "code",
      "execution_count": 120,
      "metadata": {
        "id": "Glu2fM4dkNlx"
      },
      "outputs": [
        {
          "data": {
            "text/plain": [
              "'2.6.0+cpu'"
            ]
          },
          "execution_count": 120,
          "metadata": {},
          "output_type": "execute_result"
        }
      ],
      "source": [
        "# Import necessary libraries\n",
        "import torch\n",
        "from torch import nn # nn contains all of PyTorch's building blocks for neural networks\n",
        "import matplotlib.pyplot as plt\n",
        "\n",
        "# Check PyTorch version\n",
        "torch.__version__"
      ]
    },
    {
      "cell_type": "code",
      "execution_count": 121,
      "metadata": {
        "id": "LqKhXY26m31s"
      },
      "outputs": [
        {
          "name": "stdout",
          "output_type": "stream",
          "text": [
            "Using device: cpu\n"
          ]
        }
      ],
      "source": [
        "# Setup device agnostic code\n",
        "device = \"cuda\" if torch.cuda.is_available() else \"cpu\"\n",
        "print(f\"Using device: {device}\")"
      ]
    },
    {
      "cell_type": "markdown",
      "metadata": {
        "id": "g7HUhxCxjeBx"
      },
      "source": [
        "## 1. Create a straight line dataset using the linear regression formula (`weight * X + bias`).\n",
        "  * Set `weight=0.3` and `bias=0.9` there should be at least 100 datapoints total. \n",
        "  * Split the data into 80% training, 20% testing.\n",
        "  * Plot the training and testing data so it becomes visual.\n",
        "\n",
        "Your output of the below cell should look something like:\n",
        "```\n",
        "Number of X samples: 100\n",
        "Number of y samples: 100\n",
        "First 10 X & y samples:\n",
        "X: tensor([0.0000, 0.0100, 0.0200, 0.0300, 0.0400, 0.0500, 0.0600, 0.0700, 0.0800,\n",
        "        0.0900])\n",
        "y: tensor([0.9000, 0.9030, 0.9060, 0.9090, 0.9120, 0.9150, 0.9180, 0.9210, 0.9240,\n",
        "        0.9270])\n",
        "```\n",
        "\n",
        "Of course the numbers in `X` and `y` may be different but ideally they're created using the linear regression formula."
      ]
    },
    {
      "cell_type": "code",
      "execution_count": 122,
      "metadata": {
        "id": "KbDG5MV7jhvE"
      },
      "outputs": [
        {
          "name": "stdout",
          "output_type": "stream",
          "text": [
            "Number of X samples: 100\n",
            "Number of y samples: 100\n",
            "First 10 X & y samples:\n",
            "X: tensor([[0.0000],\n",
            "        [0.0100],\n",
            "        [0.0200],\n",
            "        [0.0300],\n",
            "        [0.0400],\n",
            "        [0.0500],\n",
            "        [0.0600],\n",
            "        [0.0700],\n",
            "        [0.0800],\n",
            "        [0.0900]])\n",
            "y: tensor([[0.9000],\n",
            "        [0.9030],\n",
            "        [0.9060],\n",
            "        [0.9090],\n",
            "        [0.9120],\n",
            "        [0.9150],\n",
            "        [0.9180],\n",
            "        [0.9210],\n",
            "        [0.9240],\n",
            "        [0.9270]])\n"
          ]
        }
      ],
      "source": [
        "# Create the data parameters\n",
        "weight = 0.3\n",
        "bias = 0.9\n",
        "\n",
        "# Make X and y using linear regression feature\n",
        "start = 0\n",
        "end = 1\n",
        "step = 0.01\n",
        "X = torch.arange(start, end, step).unsqueeze(dim=1)\n",
        "y = weight * X + bias\n",
        "\n",
        "print(f\"Number of X samples: {len(X)}\")\n",
        "print(f\"Number of y samples: {len(y)}\")\n",
        "print(f\"First 10 X & y samples:\\nX: {X[:10]}\\ny: {y[:10]}\")"
      ]
    },
    {
      "cell_type": "code",
      "execution_count": 123,
      "metadata": {
        "id": "GlwtT1djkmLw"
      },
      "outputs": [
        {
          "data": {
            "text/plain": [
              "(80, 20, 80, 20)"
            ]
          },
          "execution_count": 123,
          "metadata": {},
          "output_type": "execute_result"
        }
      ],
      "source": [
        "# Split the data into training and testing\n",
        "train_split = int(0.8 * len(X))\n",
        "X_train, y_train = X[:train_split], y[:train_split]\n",
        "X_test, y_test = X[train_split:], y[train_split:]\n",
        "len(X_train), len(X_test), len(y_train), len(y_test)"
      ]
    },
    {
      "cell_type": "code",
      "execution_count": 124,
      "metadata": {
        "id": "29iQZFNhlYJ-"
      },
      "outputs": [
        {
          "data": {
            "image/png": "[encoded data removed]",
            "text/plain": [
              "<Figure size 1000x700 with 1 Axes>"
            ]
          },
          "metadata": {},
          "output_type": "display_data"
        }
      ],
      "source": [
        "# Plot the training and testing data \n",
        "def plot_predictions(train_data = X_train,\n",
        "                     train_labels = y_train,\n",
        "                     test_data = X_test,\n",
        "                     test_labels = y_test,\n",
        "                     predictions = None):\n",
        "    \n",
        "    #设置图像的尺寸\n",
        "    plt.figure(figsize=(10,7))\n",
        "    \n",
        "    # Plot training data in blue\n",
        "    plt.scatter(train_data, train_labels, c=\"b\", s=4, label=\"Training data\")\n",
        "    \n",
        "    # Plot test data in green\n",
        "    plt.scatter(test_data, test_labels, c=\"g\", s=4, label=\"Testing data\")\n",
        "\n",
        "    if predictions is not None:\n",
        "        # plot the predictions in red(predictions were made on the test data)\n",
        "        plt.scatter(test_data, predictions, c=\"r\", s=4, label=\"Predictions\")\n",
        "    \n",
        "    # sshow the legend\n",
        "    plt.legend(prop={\"size\": 14})\n",
        "\n",
        "#开始绘图\n",
        "plot_predictions()"
      ]
    },
    {
      "cell_type": "markdown",
      "metadata": {
        "id": "ImZoe3v8jif8"
      },
      "source": [
        "## 2. Build a PyTorch model by subclassing `nn.Module`. \n",
        "  * Inside should be a randomly initialized `nn.Parameter()` with `requires_grad=True`, one for `weights` and one for `bias`. \n",
        "  * Implement the `forward()` method to compute the linear regression function you used to create the dataset in 1. \n",
        "  * Once you've constructed the model, make an instance of it and check its `state_dict()`.\n",
        "  * **Note:** If you'd like to use `nn.Linear()` instead of `nn.Parameter()` you can."
      ]
    },
    {
      "cell_type": "code",
      "execution_count": 125,
      "metadata": {
        "id": "qzd__Y5rjtB8"
      },
      "outputs": [
        {
          "data": {
            "text/plain": [
              "(LinearRegressionModel(\n",
              "   (linear_layer): Linear(in_features=1, out_features=1, bias=True)\n",
              " ),\n",
              " OrderedDict([('linear_layer.weight', tensor([[-0.8519]])),\n",
              "              ('linear_layer.bias', tensor([0.4944]))]))"
            ]
          },
          "execution_count": 125,
          "metadata": {},
          "output_type": "execute_result"
        }
      ],
      "source": [
        "# Create PyTorch linear regression model by subclassing nn.Module\n",
        "class LinearRegressionModel(nn.Module):\n",
        "    def __init__(self):\n",
        "        super().__init__()\n",
        "        self.linear_layer = nn.Linear(in_features=1,\n",
        "                                    out_features=1)\n",
        "        \n",
        "    def forward(self, x: torch.Tensor) -> torch.Tensor:\n",
        "        return self.linear_layer(x)\n",
        "\n",
        "model_1 = LinearRegressionModel()\n",
        "model_1,model_1.state_dict()"
      ]
    },
    {
      "cell_type": "code",
      "execution_count": 126,
      "metadata": {
        "id": "5LdcDnmOmyQ2"
      },
      "outputs": [
        {
          "data": {
            "text/plain": [
              "LinearRegressionModel(\n",
              "  (linear_layer): Linear(in_features=1, out_features=1, bias=True)\n",
              ")"
            ]
          },
          "execution_count": 126,
          "metadata": {},
          "output_type": "execute_result"
        }
      ],
      "source": [
        "# Instantiate the model and put it to the target device\n",
        "# check the device\n",
        "next(model_1.parameters()).device\n",
        "\n",
        "# Move the model to the target device\n",
        "model_1.to(device)"
      ]
    },
    {
      "cell_type": "markdown",
      "metadata": {
        "id": "G6nYOrJhjtfu"
      },
      "source": [
        "## 3. Create a loss function and optimizer using `nn.L1Loss()` and `torch.optim.SGD(params, lr)` respectively. \n",
        "  * Set the learning rate of the optimizer to be 0.01 and the parameters to optimize should be the model parameters from the model you created in 2.\n",
        "  * Write a training loop to perform the appropriate training steps for 300 epochs.\n",
        "  * The training loop should test the model on the test dataset every 20 epochs."
      ]
    },
    {
      "cell_type": "code",
      "execution_count": 127,
      "metadata": {
        "id": "ltvoZ-FWjv1j"
      },
      "outputs": [],
      "source": [
        "# Create the loss function and optimizer\n",
        "loss_fn = nn.L1Loss()\n",
        "optimizer = torch.optim.SGD(params=model_1.parameters(),\n",
        "                            lr=0.01)"
      ]
    },
    {
      "cell_type": "code",
      "execution_count": 128,
      "metadata": {
        "id": "xpE83NvNnkdV"
      },
      "outputs": [
        {
          "name": "stdout",
          "output_type": "stream",
          "text": [
            "Epoch: 0 | Train loss: 0.861 | Test loss: 1.423\n",
            "Epoch: 20 | Train loss: 0.629 | Test loss: 1.152\n",
            "Epoch: 40 | Train loss: 0.398 | Test loss: 0.882\n",
            "Epoch: 60 | Train loss: 0.244 | Test loss: 0.661\n",
            "Epoch: 80 | Train loss: 0.184 | Test loss: 0.518\n",
            "Epoch: 100 | Train loss: 0.162 | Test loss: 0.432\n",
            "Epoch: 120 | Train loss: 0.150 | Test loss: 0.380\n",
            "Epoch: 140 | Train loss: 0.143 | Test loss: 0.347\n",
            "Epoch: 160 | Train loss: 0.135 | Test loss: 0.323\n",
            "Epoch: 180 | Train loss: 0.129 | Test loss: 0.303\n",
            "Epoch: 200 | Train loss: 0.122 | Test loss: 0.287\n",
            "Epoch: 220 | Train loss: 0.115 | Test loss: 0.271\n",
            "Epoch: 240 | Train loss: 0.108 | Test loss: 0.255\n",
            "Epoch: 260 | Train loss: 0.101 | Test loss: 0.238\n",
            "Epoch: 280 | Train loss: 0.094 | Test loss: 0.222\n",
            "Epoch: 300 | Train loss: 0.087 | Test loss: 0.206\n",
            "Epoch: 320 | Train loss: 0.081 | Test loss: 0.190\n",
            "Epoch: 340 | Train loss: 0.074 | Test loss: 0.174\n",
            "Epoch: 360 | Train loss: 0.067 | Test loss: 0.157\n",
            "Epoch: 380 | Train loss: 0.060 | Test loss: 0.141\n",
            "Epoch: 400 | Train loss: 0.053 | Test loss: 0.125\n",
            "Epoch: 420 | Train loss: 0.046 | Test loss: 0.109\n",
            "Epoch: 440 | Train loss: 0.039 | Test loss: 0.093\n",
            "Epoch: 460 | Train loss: 0.033 | Test loss: 0.076\n",
            "Epoch: 480 | Train loss: 0.026 | Test loss: 0.060\n",
            "Epoch: 500 | Train loss: 0.019 | Test loss: 0.044\n",
            "Epoch: 520 | Train loss: 0.012 | Test loss: 0.028\n",
            "Epoch: 540 | Train loss: 0.005 | Test loss: 0.011\n",
            "Epoch: 560 | Train loss: 0.007 | Test loss: 0.003\n",
            "Epoch: 580 | Train loss: 0.007 | Test loss: 0.003\n",
            "Epoch: 600 | Train loss: 0.007 | Test loss: 0.003\n",
            "Epoch: 620 | Train loss: 0.007 | Test loss: 0.003\n",
            "Epoch: 640 | Train loss: 0.007 | Test loss: 0.003\n",
            "Epoch: 660 | Train loss: 0.007 | Test loss: 0.003\n",
            "Epoch: 680 | Train loss: 0.007 | Test loss: 0.003\n",
            "Epoch: 700 | Train loss: 0.007 | Test loss: 0.003\n",
            "Epoch: 720 | Train loss: 0.007 | Test loss: 0.003\n",
            "Epoch: 740 | Train loss: 0.007 | Test loss: 0.003\n",
            "Epoch: 760 | Train loss: 0.007 | Test loss: 0.003\n",
            "Epoch: 780 | Train loss: 0.007 | Test loss: 0.003\n",
            "Epoch: 800 | Train loss: 0.007 | Test loss: 0.003\n",
            "Epoch: 820 | Train loss: 0.007 | Test loss: 0.003\n",
            "Epoch: 840 | Train loss: 0.007 | Test loss: 0.003\n",
            "Epoch: 860 | Train loss: 0.007 | Test loss: 0.003\n",
            "Epoch: 880 | Train loss: 0.007 | Test loss: 0.003\n",
            "Epoch: 900 | Train loss: 0.007 | Test loss: 0.003\n",
            "Epoch: 920 | Train loss: 0.007 | Test loss: 0.003\n",
            "Epoch: 940 | Train loss: 0.007 | Test loss: 0.003\n",
            "Epoch: 960 | Train loss: 0.007 | Test loss: 0.003\n",
            "Epoch: 980 | Train loss: 0.007 | Test loss: 0.003\n",
            "Epoch: 1000 | Train loss: 0.007 | Test loss: 0.003\n",
            "Epoch: 1020 | Train loss: 0.007 | Test loss: 0.003\n",
            "Epoch: 1040 | Train loss: 0.007 | Test loss: 0.003\n",
            "Epoch: 1060 | Train loss: 0.007 | Test loss: 0.003\n",
            "Epoch: 1080 | Train loss: 0.007 | Test loss: 0.003\n",
            "Epoch: 1100 | Train loss: 0.007 | Test loss: 0.003\n",
            "Epoch: 1120 | Train loss: 0.007 | Test loss: 0.003\n",
            "Epoch: 1140 | Train loss: 0.007 | Test loss: 0.003\n",
            "Epoch: 1160 | Train loss: 0.007 | Test loss: 0.003\n",
            "Epoch: 1180 | Train loss: 0.007 | Test loss: 0.003\n",
            "Epoch: 1200 | Train loss: 0.007 | Test loss: 0.003\n",
            "Epoch: 1220 | Train loss: 0.007 | Test loss: 0.003\n",
            "Epoch: 1240 | Train loss: 0.007 | Test loss: 0.003\n",
            "Epoch: 1260 | Train loss: 0.007 | Test loss: 0.003\n",
            "Epoch: 1280 | Train loss: 0.007 | Test loss: 0.003\n",
            "Epoch: 1300 | Train loss: 0.007 | Test loss: 0.003\n",
            "Epoch: 1320 | Train loss: 0.007 | Test loss: 0.003\n",
            "Epoch: 1340 | Train loss: 0.007 | Test loss: 0.003\n",
            "Epoch: 1360 | Train loss: 0.007 | Test loss: 0.003\n",
            "Epoch: 1380 | Train loss: 0.007 | Test loss: 0.003\n",
            "Epoch: 1400 | Train loss: 0.007 | Test loss: 0.003\n",
            "Epoch: 1420 | Train loss: 0.007 | Test loss: 0.003\n",
            "Epoch: 1440 | Train loss: 0.007 | Test loss: 0.003\n",
            "Epoch: 1460 | Train loss: 0.007 | Test loss: 0.003\n",
            "Epoch: 1480 | Train loss: 0.007 | Test loss: 0.003\n",
            "Epoch: 1500 | Train loss: 0.007 | Test loss: 0.003\n",
            "Epoch: 1520 | Train loss: 0.007 | Test loss: 0.003\n",
            "Epoch: 1540 | Train loss: 0.007 | Test loss: 0.003\n",
            "Epoch: 1560 | Train loss: 0.007 | Test loss: 0.003\n",
            "Epoch: 1580 | Train loss: 0.007 | Test loss: 0.003\n",
            "Epoch: 1600 | Train loss: 0.007 | Test loss: 0.003\n",
            "Epoch: 1620 | Train loss: 0.007 | Test loss: 0.003\n",
            "Epoch: 1640 | Train loss: 0.007 | Test loss: 0.003\n",
            "Epoch: 1660 | Train loss: 0.007 | Test loss: 0.003\n",
            "Epoch: 1680 | Train loss: 0.007 | Test loss: 0.003\n",
            "Epoch: 1700 | Train loss: 0.007 | Test loss: 0.003\n",
            "Epoch: 1720 | Train loss: 0.007 | Test loss: 0.003\n",
            "Epoch: 1740 | Train loss: 0.007 | Test loss: 0.003\n",
            "Epoch: 1760 | Train loss: 0.007 | Test loss: 0.003\n",
            "Epoch: 1780 | Train loss: 0.007 | Test loss: 0.003\n",
            "Epoch: 1800 | Train loss: 0.007 | Test loss: 0.003\n",
            "Epoch: 1820 | Train loss: 0.007 | Test loss: 0.003\n",
            "Epoch: 1840 | Train loss: 0.007 | Test loss: 0.003\n",
            "Epoch: 1860 | Train loss: 0.007 | Test loss: 0.003\n",
            "Epoch: 1880 | Train loss: 0.007 | Test loss: 0.003\n",
            "Epoch: 1900 | Train loss: 0.007 | Test loss: 0.003\n",
            "Epoch: 1920 | Train loss: 0.007 | Test loss: 0.003\n",
            "Epoch: 1940 | Train loss: 0.007 | Test loss: 0.003\n",
            "Epoch: 1960 | Train loss: 0.007 | Test loss: 0.003\n",
            "Epoch: 1980 | Train loss: 0.007 | Test loss: 0.003\n",
            "Epoch: 2000 | Train loss: 0.007 | Test loss: 0.003\n",
            "Epoch: 2020 | Train loss: 0.007 | Test loss: 0.003\n",
            "Epoch: 2040 | Train loss: 0.007 | Test loss: 0.003\n",
            "Epoch: 2060 | Train loss: 0.007 | Test loss: 0.003\n",
            "Epoch: 2080 | Train loss: 0.007 | Test loss: 0.003\n",
            "Epoch: 2100 | Train loss: 0.007 | Test loss: 0.003\n",
            "Epoch: 2120 | Train loss: 0.007 | Test loss: 0.003\n",
            "Epoch: 2140 | Train loss: 0.007 | Test loss: 0.003\n",
            "Epoch: 2160 | Train loss: 0.007 | Test loss: 0.003\n",
            "Epoch: 2180 | Train loss: 0.007 | Test loss: 0.003\n",
            "Epoch: 2200 | Train loss: 0.007 | Test loss: 0.003\n",
            "Epoch: 2220 | Train loss: 0.007 | Test loss: 0.003\n",
            "Epoch: 2240 | Train loss: 0.007 | Test loss: 0.003\n",
            "Epoch: 2260 | Train loss: 0.007 | Test loss: 0.003\n",
            "Epoch: 2280 | Train loss: 0.007 | Test loss: 0.003\n",
            "Epoch: 2300 | Train loss: 0.007 | Test loss: 0.003\n",
            "Epoch: 2320 | Train loss: 0.007 | Test loss: 0.003\n",
            "Epoch: 2340 | Train loss: 0.007 | Test loss: 0.003\n",
            "Epoch: 2360 | Train loss: 0.007 | Test loss: 0.003\n",
            "Epoch: 2380 | Train loss: 0.007 | Test loss: 0.003\n",
            "Epoch: 2400 | Train loss: 0.007 | Test loss: 0.003\n",
            "Epoch: 2420 | Train loss: 0.007 | Test loss: 0.003\n",
            "Epoch: 2440 | Train loss: 0.007 | Test loss: 0.003\n",
            "Epoch: 2460 | Train loss: 0.007 | Test loss: 0.003\n",
            "Epoch: 2480 | Train loss: 0.007 | Test loss: 0.003\n",
            "Epoch: 2500 | Train loss: 0.007 | Test loss: 0.003\n",
            "Epoch: 2520 | Train loss: 0.007 | Test loss: 0.003\n",
            "Epoch: 2540 | Train loss: 0.007 | Test loss: 0.003\n",
            "Epoch: 2560 | Train loss: 0.007 | Test loss: 0.003\n",
            "Epoch: 2580 | Train loss: 0.007 | Test loss: 0.003\n",
            "Epoch: 2600 | Train loss: 0.007 | Test loss: 0.003\n",
            "Epoch: 2620 | Train loss: 0.007 | Test loss: 0.003\n",
            "Epoch: 2640 | Train loss: 0.007 | Test loss: 0.003\n",
            "Epoch: 2660 | Train loss: 0.007 | Test loss: 0.003\n",
            "Epoch: 2680 | Train loss: 0.007 | Test loss: 0.003\n",
            "Epoch: 2700 | Train loss: 0.007 | Test loss: 0.003\n",
            "Epoch: 2720 | Train loss: 0.007 | Test loss: 0.003\n",
            "Epoch: 2740 | Train loss: 0.007 | Test loss: 0.003\n",
            "Epoch: 2760 | Train loss: 0.007 | Test loss: 0.003\n",
            "Epoch: 2780 | Train loss: 0.007 | Test loss: 0.003\n",
            "Epoch: 2800 | Train loss: 0.007 | Test loss: 0.003\n",
            "Epoch: 2820 | Train loss: 0.007 | Test loss: 0.003\n",
            "Epoch: 2840 | Train loss: 0.007 | Test loss: 0.003\n",
            "Epoch: 2860 | Train loss: 0.007 | Test loss: 0.003\n",
            "Epoch: 2880 | Train loss: 0.007 | Test loss: 0.003\n",
            "Epoch: 2900 | Train loss: 0.007 | Test loss: 0.003\n",
            "Epoch: 2920 | Train loss: 0.007 | Test loss: 0.003\n",
            "Epoch: 2940 | Train loss: 0.007 | Test loss: 0.003\n",
            "Epoch: 2960 | Train loss: 0.007 | Test loss: 0.003\n",
            "Epoch: 2980 | Train loss: 0.007 | Test loss: 0.003\n"
          ]
        }
      ],
      "source": [
        "# Training loop\n",
        "\n",
        "\n",
        "# Train model for 300 epochs\n",
        "epochs = 3000\n",
        "\n",
        "# Send data to target device\n",
        "model_1.to(device)\n",
        "\n",
        "for epoch in range(epochs):\n",
        "  ### Training\n",
        "\n",
        "\n",
        "  # Put model in train mode\n",
        "  model_1.train()\n",
        "\n",
        "  # 1. Forward pass\n",
        "  y_pred = model_1(X_train)\n",
        "\n",
        "  # 2. Calculate loss\n",
        "  loss = loss_fn(y_pred, y_train)\n",
        "  \n",
        "\n",
        "  # 3. Zero gradients\n",
        "  optimizer.zero_grad()\n",
        "  \n",
        "\n",
        "  # 4. Backpropagation\n",
        "  loss.backward()\n",
        "  \n",
        "\n",
        "  # 5. Step the optimizer\n",
        "  optimizer.step()\n",
        "  \n",
        "\n",
        "  ### Perform testing every 20 epochs\n",
        "  if epoch % 20 == 0:\n",
        "\n",
        "    # Put model in evaluation mode and setup inference context \n",
        "      model_1.eval()\n",
        "    \n",
        "      # 1. Forward pass\n",
        "      test_pred = model_1(X_test)\n",
        "      \n",
        "      # 2. Calculate test loss\n",
        "      test_loss = loss_fn(test_pred, y_test)\n",
        "\n",
        "      # Print out what's happening\n",
        "      print(f\"Epoch: {epoch} | Train loss: {loss:.3f} | Test loss: {test_loss:.3f}\")"
      ]
    },
    {
      "cell_type": "markdown",
      "metadata": {
        "id": "x4j4TM18jwa7"
      },
      "source": [
        "## 4. Make predictions with the trained model on the test data.\n",
        "  * Visualize these predictions against the original training and testing data (**note:** you may need to make sure the predictions are *not* on the GPU if you want to use non-CUDA-enabled libraries such as matplotlib to plot)."
      ]
    },
    {
      "cell_type": "code",
      "execution_count": 129,
      "metadata": {
        "id": "bbMPK5Qjjyx_"
      },
      "outputs": [
        {
          "data": {
            "text/plain": [
              "tensor([[1.1303],\n",
              "        [1.1332],\n",
              "        [1.1362],\n",
              "        [1.1391],\n",
              "        [1.1420],\n",
              "        [1.1450],\n",
              "        [1.1479],\n",
              "        [1.1508],\n",
              "        [1.1538],\n",
              "        [1.1567]])"
            ]
          },
          "execution_count": 129,
          "metadata": {},
          "output_type": "execute_result"
        }
      ],
      "source": [
        "# Make predictions with the model\n",
        "# 转为评估模式\n",
        "model_1.eval()\n",
        "\n",
        "# Make predictions on the test dataset and view the first 10results\n",
        "with torch.inference_mode():\n",
        "    y_preds = model_1(X_test)\n",
        "y_preds[:10]\n"
      ]
    },
    {
      "cell_type": "code",
      "execution_count": 130,
      "metadata": {
        "id": "K3BdmQaDpFo8"
      },
      "outputs": [
        {
          "data": {
            "image/png": "[encoded data removed]",
            "text/plain": [
              "<Figure size 1000x700 with 1 Axes>"
            ]
          },
          "metadata": {},
          "output_type": "display_data"
        }
      ],
      "source": [
        "# Plot the predictions (these may need to be on a specific device)\n",
        "# 绘图\n",
        "plot_predictions(predictions=y_preds)"
      ]
    },
    {
      "cell_type": "markdown",
      "metadata": {
        "id": "s2OnlMWKjzX8"
      },
      "source": [
        "## 5. Save your trained model's `state_dict()` to file.\n",
        "  * Create a new instance of your model class you made in 2. and load in the `state_dict()` you just saved to it.\n",
        "  * Perform predictions on your test data with the loaded model and confirm they match the original model predictions from 4."
      ]
    },
    {
      "cell_type": "code",
      "execution_count": 131,
      "metadata": {
        "id": "hgxhgD14qr-i"
      },
      "outputs": [],
      "source": [
        "from pathlib import Path\n",
        "\n",
        "# 1. Create models directory \n",
        "MODEL_PATH = Path(\"models\")\n",
        "MODEL_PATH.mkdir(parents=True, exist_ok=True)\n",
        "\n",
        "# 2. Create model save path \n",
        "MODEL_NAME = \"01_pytorch_workflow_model_1.pth\"\n",
        "MODEL_SAVE_PATH = MODEL_PATH / MODEL_NAME\n",
        "\n",
        "# 3. Save the model state dict\n",
        "torch.save(obj=model_1.state_dict(), f=MODEL_SAVE_PATH)\n"
      ]
    },
    {
      "cell_type": "code",
      "execution_count": 132,
      "metadata": {
        "id": "P9vTgiLRrJ7T"
      },
      "outputs": [
        {
          "data": {
            "text/plain": [
              "<All keys matched successfully>"
            ]
          },
          "execution_count": 132,
          "metadata": {},
          "output_type": "execute_result"
        }
      ],
      "source": [
        "# Create new instance of model and load saved state dict (make sure to put it on the target device)\n",
        "# 实例化\n",
        "loaded_model_1 = LinearRegressionModel()\n",
        "# 装载到指定cpu或GPU上\n",
        "loaded_model_1.to(device)\n",
        "# 装载模型\n",
        "loaded_model_1.load_state_dict(torch.load(MODEL_SAVE_PATH))"
      ]
    },
    {
      "cell_type": "code",
      "execution_count": 133,
      "metadata": {
        "id": "8UGX3VebrVtI"
      },
      "outputs": [
        {
          "data": {
            "text/plain": [
              "tensor([[True],\n",
              "        [True],\n",
              "        [True],\n",
              "        [True],\n",
              "        [True],\n",
              "        [True],\n",
              "        [True],\n",
              "        [True],\n",
              "        [True],\n",
              "        [True],\n",
              "        [True],\n",
              "        [True],\n",
              "        [True],\n",
              "        [True],\n",
              "        [True],\n",
              "        [True],\n",
              "        [True],\n",
              "        [True],\n",
              "        [True],\n",
              "        [True]])"
            ]
          },
          "execution_count": 133,
          "metadata": {},
          "output_type": "execute_result"
        }
      ],
      "source": [
        "# Make predictions with loaded model and compare them to the previous\n",
        "loaded_model_1.eval()\n",
        "with torch.inference_mode():\n",
        "    loaded_model_preds = loaded_model_1(X_test)\n",
        "y_preds == loaded_model_preds\n",
        "\n"
      ]
    }
  ],
  "metadata": {
    "accelerator": "GPU",
    "colab": {
      "authorship_tag": "ABX9TyNYzatJtFkfUqqdiR6rYwVL",
      "collapsed_sections": [],
      "include_colab_link": true,
      "name": "01_pytorch_workflow_exercises.ipynb",
      "provenance": []
    },
    "kernelspec": {
      "display_name": "AI",
      "language": "python",
      "name": "python3"
    },
    "language_info": {
      "codemirror_mode": {
        "name": "ipython",
        "version": 3
      },
      "file_extension": ".py",
      "mimetype": "text/x-python",
      "name": "python",
      "nbconvert_exporter": "python",
      "pygments_lexer": "ipython3",
      "version": "3.9.21"
    }
  },
  "nbformat": 4,
  "nbformat_minor": 0
}
